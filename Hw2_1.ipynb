{
  "nbformat": 4,
  "nbformat_minor": 0,
  "metadata": {
    "colab": {
      "provenance": [],
      "authorship_tag": "ABX9TyNO3Fd8hsjCurzuv+37RzTl",
      "include_colab_link": true
    },
    "kernelspec": {
      "name": "python3",
      "display_name": "Python 3"
    },
    "language_info": {
      "name": "python"
    },
    "accelerator": "TPU",
    "gpuClass": "standard"
  },
  "cells": [
    {
      "cell_type": "markdown",
      "metadata": {
        "id": "view-in-github",
        "colab_type": "text"
      },
      "source": [
        "<a href=\"https://colab.research.google.com/github/SaifuliAnna/DataScience_HW2/blob/main/Hw2_1.ipynb\" target=\"_parent\"><img src=\"https://colab.research.google.com/assets/colab-badge.svg\" alt=\"Open In Colab\"/></a>"
      ]
    },
    {
      "cell_type": "markdown",
      "source": [
        "# **Часть первая: Знакомство с Pandas.**"
      ],
      "metadata": {
        "id": "bJZbLUVEdXR9"
      }
    },
    {
      "cell_type": "markdown",
      "source": [
        "# Новый раздел"
      ],
      "metadata": {
        "id": "LF9b1SzFiySn"
      }
    },
    {
      "cell_type": "code",
      "source": [
        "!pip install lxml"
      ],
      "metadata": {
        "id": "mQhQ9VAsoKSQ"
      },
      "execution_count": null,
      "outputs": []
    },
    {
      "cell_type": "code",
      "execution_count": null,
      "metadata": {
        "id": "9LqOBej6QSs9"
      },
      "outputs": [],
      "source": [
        "import pandas as pd"
      ]
    },
    {
      "cell_type": "code",
      "source": [
        "import numpy as np"
      ],
      "metadata": {
        "id": "Nr-zPLu2r6oi"
      },
      "execution_count": null,
      "outputs": []
    },
    {
      "cell_type": "code",
      "source": [
        "import matplotlib.pyplot as plt"
      ],
      "metadata": {
        "id": "2dslEuj9r94y"
      },
      "execution_count": null,
      "outputs": []
    },
    {
      "cell_type": "code",
      "source": [
        "from unicodedata import normalize"
      ],
      "metadata": {
        "id": "7s350bOxsAmK"
      },
      "execution_count": null,
      "outputs": []
    },
    {
      "cell_type": "markdown",
      "source": [
        "# 1. Прочитайте данные с помощью метода read_html из таблицы \"Коефіцієнт народжуваності в регіонах України (1950—2019)\" по ссылке"
      ],
      "metadata": {
        "id": "mbVuzAiY-e40"
      }
    },
    {
      "cell_type": "markdown",
      "source": [
        "# **First**"
      ],
      "metadata": {
        "id": "ychG52yMCbhG"
      }
    },
    {
      "cell_type": "code",
      "source": [
        "tmp = pd.read_html(\"https://uk.wikipedia.org/wiki/%D0%9D%D0%B0%D1%81%D0%B5%D0%BB%D0%B5%D0%BD%D0%BD%D1%8F_%D0%A3%D0%BA%D1%80%D0%B0%D1%97%D0%BD%D0%B8\")"
      ],
      "metadata": {
        "id": "E2YVlHfLe5rg"
      },
      "execution_count": null,
      "outputs": []
    },
    {
      "cell_type": "code",
      "source": [
        "len (tmp)"
      ],
      "metadata": {
        "id": "N2EObI8wsGsP",
        "colab": {
          "base_uri": "https://localhost:8080/"
        },
        "outputId": "2f681625-9883-46da-a81e-ed45c9e7e7a6"
      },
      "execution_count": null,
      "outputs": [
        {
          "output_type": "execute_result",
          "data": {
            "text/plain": [
              "73"
            ]
          },
          "metadata": {},
          "execution_count": 11
        }
      ]
    },
    {
      "cell_type": "code",
      "source": [
        "print(tmp)"
      ],
      "metadata": {
        "id": "XNNUAGKmaIKR"
      },
      "execution_count": null,
      "outputs": []
    },
    {
      "cell_type": "code",
      "source": [
        "n = 0\n",
        "for t in tmp:\n",
        "    n += 1\n",
        "    print(f\"'{n-1}'{t}\")"
      ],
      "metadata": {
        "id": "wKIrQ0kM6K4e"
      },
      "execution_count": null,
      "outputs": []
    },
    {
      "cell_type": "code",
      "source": [
        "print(tmp[10])"
      ],
      "metadata": {
        "id": "CJvWnoo7V2Mp",
        "colab": {
          "base_uri": "https://localhost:8080/"
        },
        "outputId": "3b261ac7-f12d-4880-e064-15c9e59e618b"
      },
      "execution_count": null,
      "outputs": [
        {
          "output_type": "stream",
          "name": "stdout",
          "text": [
            "               Регіон   1950   1960   1970  1990  2000  2012 2014 2019\n",
            "0                Крим  230.0  206.0  160.0   130    73   126    —    —\n",
            "1           Вінницька  224.0  192.0  142.0   124    84   112  109   76\n",
            "2           Волинська  247.0  250.0  179.0   153   112   148  141  101\n",
            "3    Дніпропетровська  204.0  204.0  151.0   123    71   112  111   71\n",
            "4            Донецька  271.0  214.0  140.0   109    61    98   82    —\n",
            "5         Житомирська  261.0  223.0  159.0   129    89   122  120   79\n",
            "6        Закарпатська  314.0  273.0  207.0   168   115   151  146  104\n",
            "7          Запорізька  219.0  197.0  150.0   124    71   106  106   68\n",
            "8   Івано-Франківська  243.0  248.0  182.0   155   103   124  122   88\n",
            "9            Київська  204.0  189.0  156.0   123    73   122  121   80\n",
            "10     Кіровоградська  216.0  171.0  145.0   126    79   110  108   68\n",
            "11          Луганська  262.0  235.0  144.0   116    62    96   51    —\n",
            "12          Львівська  234.0  240.0  171.0   140    91   119  119   87\n",
            "13       Миколаївська  211.0  194.0  155.0   137    80   115  112   71\n",
            "14            Одеська  241.0  192.0  148.0   126    80   127  123   88\n",
            "15         Полтавська  186.0  163.0  131.0   118    70    99  100   65\n",
            "16         Рівненська  269.0  267.0  193.0   158   118   159  148  107\n",
            "17            Сумська  216.0  184.0  132.0   115    70    97   92   60\n",
            "18      Тернопільська  213.0  216.0  157.0   142    92   113  109   76\n",
            "19         Харківська  197.0  173.0  140.0   114    68    99  101   68\n",
            "20         Херсонська  208.0  214.0  166.0   143    85   117  115   81\n",
            "21        Хмельницька  234.0  198.0  148.0   129    85   113  112   79\n",
            "22          Черкаська  205.0  179.0  144.0   123    75   100   98   64\n",
            "23        Чернівецька  247.0  218.0  170.0   148   101   128  129   92\n",
            "24       Чернігівська  220.0  183.0  127.0   108    69    94   90   61\n",
            "25               Київ    NaN  174.0  159.0   120    73   120  121  110\n",
            "26        Севастополь    NaN    NaN    NaN   125    70   120    —    —\n",
            "27            Україна  228.0  205.0  152.0   126    78   114  111   81\n"
          ]
        }
      ]
    },
    {
      "cell_type": "code",
      "source": [
        "# tmp_2 = pd.read_html(\"https://uk.wikipedia.org/wiki/%D0%9D%D0%B0%D1%81%D0%B5%D0%BB%D0%B5%D0%BD%D0%BD%D1%8F_%D0%A3%D0%BA%D1%80%D0%B0%D1%97%D0%BD%D0%B8#%D0%9D%D0%B0%D1%80%D0%BE%D0%B4%D0%B6%D1%83%D0%B2%D0%B0%D0%BD%D1%96%D1%81%D1%82%D1%8C\")\n",
        "# print(tmp_2)"
      ],
      "metadata": {
        "id": "dtDjDEatRbNR"
      },
      "execution_count": null,
      "outputs": []
    },
    {
      "cell_type": "markdown",
      "source": [
        "# **Second**"
      ],
      "metadata": {
        "id": "7L4F3IqTCov0"
      }
    },
    {
      "cell_type": "code",
      "source": [
        "tmp_m = pd.read_html(\"https://uk.wikipedia.org/wiki/%D0%9D%D0%B0%D1%81%D0%B5%D0%BB%D0%B5%D0%BD%D0%BD%D1%8F_%D0%A3%D0%BA%D1%80%D0%B0%D1%97%D0%BD%D0%B8\",\n",
        "                     match=\"(1950—2019)\")"
      ],
      "metadata": {
        "id": "0vlu4fGF4fwl"
      },
      "execution_count": null,
      "outputs": []
    },
    {
      "cell_type": "code",
      "source": [
        "len(tmp_m)"
      ],
      "metadata": {
        "id": "s867eIy0440R",
        "colab": {
          "base_uri": "https://localhost:8080/"
        },
        "outputId": "380837c6-d909-436f-d337-b64e5c40d2ce"
      },
      "execution_count": null,
      "outputs": [
        {
          "output_type": "execute_result",
          "data": {
            "text/plain": [
              "1"
            ]
          },
          "metadata": {},
          "execution_count": 15
        }
      ]
    },
    {
      "cell_type": "code",
      "source": [
        "print(tmp_m)"
      ],
      "metadata": {
        "colab": {
          "base_uri": "https://localhost:8080/"
        },
        "id": "jiGZe47s5nJb",
        "outputId": "ec430fd2-68df-4773-d97c-b4ae7901a3b8"
      },
      "execution_count": null,
      "outputs": [
        {
          "output_type": "stream",
          "name": "stdout",
          "text": [
            "[               Регіон   1950   1960   1970  1990  2000  2012 2014 2019\n",
            "0                Крим  230.0  206.0  160.0   130    73   126    —    —\n",
            "1           Вінницька  224.0  192.0  142.0   124    84   112  109   76\n",
            "2           Волинська  247.0  250.0  179.0   153   112   148  141  101\n",
            "3    Дніпропетровська  204.0  204.0  151.0   123    71   112  111   71\n",
            "4            Донецька  271.0  214.0  140.0   109    61    98   82    —\n",
            "5         Житомирська  261.0  223.0  159.0   129    89   122  120   79\n",
            "6        Закарпатська  314.0  273.0  207.0   168   115   151  146  104\n",
            "7          Запорізька  219.0  197.0  150.0   124    71   106  106   68\n",
            "8   Івано-Франківська  243.0  248.0  182.0   155   103   124  122   88\n",
            "9            Київська  204.0  189.0  156.0   123    73   122  121   80\n",
            "10     Кіровоградська  216.0  171.0  145.0   126    79   110  108   68\n",
            "11          Луганська  262.0  235.0  144.0   116    62    96   51    —\n",
            "12          Львівська  234.0  240.0  171.0   140    91   119  119   87\n",
            "13       Миколаївська  211.0  194.0  155.0   137    80   115  112   71\n",
            "14            Одеська  241.0  192.0  148.0   126    80   127  123   88\n",
            "15         Полтавська  186.0  163.0  131.0   118    70    99  100   65\n",
            "16         Рівненська  269.0  267.0  193.0   158   118   159  148  107\n",
            "17            Сумська  216.0  184.0  132.0   115    70    97   92   60\n",
            "18      Тернопільська  213.0  216.0  157.0   142    92   113  109   76\n",
            "19         Харківська  197.0  173.0  140.0   114    68    99  101   68\n",
            "20         Херсонська  208.0  214.0  166.0   143    85   117  115   81\n",
            "21        Хмельницька  234.0  198.0  148.0   129    85   113  112   79\n",
            "22          Черкаська  205.0  179.0  144.0   123    75   100   98   64\n",
            "23        Чернівецька  247.0  218.0  170.0   148   101   128  129   92\n",
            "24       Чернігівська  220.0  183.0  127.0   108    69    94   90   61\n",
            "25               Київ    NaN  174.0  159.0   120    73   120  121  110\n",
            "26        Севастополь    NaN    NaN    NaN   125    70   120    —    —\n",
            "27            Україна  228.0  205.0  152.0   126    78   114  111   81]\n"
          ]
        }
      ]
    },
    {
      "cell_type": "markdown",
      "source": [
        "# 1.1 - Вывести первые строки таблицы с помощью метода head"
      ],
      "metadata": {
        "id": "9hdAlePB-Qsc"
      }
    },
    {
      "cell_type": "code",
      "source": [
        "print(tmp[10].head())"
      ],
      "metadata": {
        "colab": {
          "base_uri": "https://localhost:8080/"
        },
        "id": "QROq4mMT-x_8",
        "outputId": "bb3e481b-d833-4400-ab76-ac55245ce227"
      },
      "execution_count": null,
      "outputs": [
        {
          "output_type": "stream",
          "name": "stdout",
          "text": [
            "             Регіон   1950   1960   1970  1990  2000  2012 2014 2019\n",
            "0              Крим  230.0  206.0  160.0   130    73   126    —    —\n",
            "1         Вінницька  224.0  192.0  142.0   124    84   112  109   76\n",
            "2         Волинська  247.0  250.0  179.0   153   112   148  141  101\n",
            "3  Дніпропетровська  204.0  204.0  151.0   123    71   112  111   71\n",
            "4          Донецька  271.0  214.0  140.0   109    61    98   82    —\n"
          ]
        }
      ]
    },
    {
      "cell_type": "markdown",
      "source": [
        "# 1.2 - Определите количество строк и столбцов в датафрейме (атрибут shape)"
      ],
      "metadata": {
        "id": "dRrBq09kBLf1"
      }
    },
    {
      "cell_type": "code",
      "source": [
        "tbl = tmp[10]"
      ],
      "metadata": {
        "id": "Q21S0WifBbbq"
      },
      "execution_count": null,
      "outputs": []
    },
    {
      "cell_type": "code",
      "source": [
        "tbl.shape"
      ],
      "metadata": {
        "colab": {
          "base_uri": "https://localhost:8080/"
        },
        "id": "S-EX5B8QBplh",
        "outputId": "4603392c-e204-416e-e58e-3862ce53b100"
      },
      "execution_count": null,
      "outputs": [
        {
          "output_type": "execute_result",
          "data": {
            "text/plain": [
              "(28, 9)"
            ]
          },
          "metadata": {},
          "execution_count": 18
        }
      ]
    },
    {
      "cell_type": "markdown",
      "source": [
        "# 1.3 - Замените в таблице значения \"—\" на значения NaN"
      ],
      "metadata": {
        "id": "WH7eJCdJB-jh"
      }
    },
    {
      "cell_type": "code",
      "source": [
        "new_tbl = tbl.copy()"
      ],
      "metadata": {
        "id": "oQL_kpjhwofT"
      },
      "execution_count": null,
      "outputs": []
    },
    {
      "cell_type": "code",
      "source": [
        "print(new_tbl)"
      ],
      "metadata": {
        "id": "DyQRCAbfxipw"
      },
      "execution_count": null,
      "outputs": []
    },
    {
      "cell_type": "code",
      "source": [
        "tbl_result = new_tbl.replace('—', np.nan)"
      ],
      "metadata": {
        "id": "Dhnlo8v-tJf3"
      },
      "execution_count": null,
      "outputs": []
    },
    {
      "cell_type": "code",
      "source": [
        "print(tbl_result)"
      ],
      "metadata": {
        "colab": {
          "base_uri": "https://localhost:8080/"
        },
        "id": "B0S3xRQSv23Q",
        "outputId": "c2cbf078-5fee-471a-a62e-05d6aff169e1"
      },
      "execution_count": null,
      "outputs": [
        {
          "output_type": "stream",
          "name": "stdout",
          "text": [
            "               Регіон   1950   1960   1970  1990  2000  2012 2014 2019\n",
            "0                Крим  230.0  206.0  160.0   130    73   126  NaN  NaN\n",
            "1           Вінницька  224.0  192.0  142.0   124    84   112  109   76\n",
            "2           Волинська  247.0  250.0  179.0   153   112   148  141  101\n",
            "3    Дніпропетровська  204.0  204.0  151.0   123    71   112  111   71\n",
            "4            Донецька  271.0  214.0  140.0   109    61    98   82  NaN\n",
            "5         Житомирська  261.0  223.0  159.0   129    89   122  120   79\n",
            "6        Закарпатська  314.0  273.0  207.0   168   115   151  146  104\n",
            "7          Запорізька  219.0  197.0  150.0   124    71   106  106   68\n",
            "8   Івано-Франківська  243.0  248.0  182.0   155   103   124  122   88\n",
            "9            Київська  204.0  189.0  156.0   123    73   122  121   80\n",
            "10     Кіровоградська  216.0  171.0  145.0   126    79   110  108   68\n",
            "11          Луганська  262.0  235.0  144.0   116    62    96   51  NaN\n",
            "12          Львівська  234.0  240.0  171.0   140    91   119  119   87\n",
            "13       Миколаївська  211.0  194.0  155.0   137    80   115  112   71\n",
            "14            Одеська  241.0  192.0  148.0   126    80   127  123   88\n",
            "15         Полтавська  186.0  163.0  131.0   118    70    99  100   65\n",
            "16         Рівненська  269.0  267.0  193.0   158   118   159  148  107\n",
            "17            Сумська  216.0  184.0  132.0   115    70    97   92   60\n",
            "18      Тернопільська  213.0  216.0  157.0   142    92   113  109   76\n",
            "19         Харківська  197.0  173.0  140.0   114    68    99  101   68\n",
            "20         Херсонська  208.0  214.0  166.0   143    85   117  115   81\n",
            "21        Хмельницька  234.0  198.0  148.0   129    85   113  112   79\n",
            "22          Черкаська  205.0  179.0  144.0   123    75   100   98   64\n",
            "23        Чернівецька  247.0  218.0  170.0   148   101   128  129   92\n",
            "24       Чернігівська  220.0  183.0  127.0   108    69    94   90   61\n",
            "25               Київ    NaN  174.0  159.0   120    73   120  121  110\n",
            "26        Севастополь    NaN    NaN    NaN   125    70   120  NaN  NaN\n",
            "27            Україна  228.0  205.0  152.0   126    78   114  111   81\n"
          ]
        }
      ]
    },
    {
      "cell_type": "markdown",
      "source": [
        "# 1.4 - Определите типы всех столбцов с помощью dataframe.dtypes"
      ],
      "metadata": {
        "id": "tAfF-8nF7i9-"
      }
    },
    {
      "cell_type": "code",
      "source": [
        "new_tbl.dtypes"
      ],
      "metadata": {
        "id": "66aY6m8D7npJ",
        "colab": {
          "base_uri": "https://localhost:8080/"
        },
        "outputId": "b4bb5f4b-b753-494a-897f-e36f67fe9a10"
      },
      "execution_count": null,
      "outputs": [
        {
          "output_type": "execute_result",
          "data": {
            "text/plain": [
              "Регіон     object\n",
              "1950      float64\n",
              "1960      float64\n",
              "1970      float64\n",
              "1990        int64\n",
              "2000        int64\n",
              "2012        int64\n",
              "2014       object\n",
              "2019       object\n",
              "dtype: object"
            ]
          },
          "metadata": {},
          "execution_count": 21
        }
      ]
    },
    {
      "cell_type": "code",
      "source": [
        "# tbl_result.dtypes"
      ],
      "metadata": {
        "id": "2Vn3yzeF9hIZ"
      },
      "execution_count": null,
      "outputs": []
    },
    {
      "cell_type": "markdown",
      "source": [
        "# 1.5 - Замените типы не числовых колонок на числовые. Подсказка - это колонки где находился символ \"—\""
      ],
      "metadata": {
        "id": "pNn2tWSL71T6"
      }
    },
    {
      "cell_type": "code",
      "source": [
        "tbl_result_ch_0 = tbl_result.fillna(0)"
      ],
      "metadata": {
        "id": "756eUCBA75No"
      },
      "execution_count": null,
      "outputs": []
    },
    {
      "cell_type": "code",
      "source": [
        "print(tbl_result_ch_0)"
      ],
      "metadata": {
        "colab": {
          "base_uri": "https://localhost:8080/"
        },
        "id": "QRvPuVa4_cpA",
        "outputId": "d12839ec-b22e-44c8-a81c-b43dbea929c7"
      },
      "execution_count": null,
      "outputs": [
        {
          "output_type": "stream",
          "name": "stdout",
          "text": [
            "               Регіон   1950   1960   1970  1990  2000  2012 2014 2019\n",
            "0                Крим  230.0  206.0  160.0   130    73   126    0    0\n",
            "1           Вінницька  224.0  192.0  142.0   124    84   112  109   76\n",
            "2           Волинська  247.0  250.0  179.0   153   112   148  141  101\n",
            "3    Дніпропетровська  204.0  204.0  151.0   123    71   112  111   71\n",
            "4            Донецька  271.0  214.0  140.0   109    61    98   82    0\n",
            "5         Житомирська  261.0  223.0  159.0   129    89   122  120   79\n",
            "6        Закарпатська  314.0  273.0  207.0   168   115   151  146  104\n",
            "7          Запорізька  219.0  197.0  150.0   124    71   106  106   68\n",
            "8   Івано-Франківська  243.0  248.0  182.0   155   103   124  122   88\n",
            "9            Київська  204.0  189.0  156.0   123    73   122  121   80\n",
            "10     Кіровоградська  216.0  171.0  145.0   126    79   110  108   68\n",
            "11          Луганська  262.0  235.0  144.0   116    62    96   51    0\n",
            "12          Львівська  234.0  240.0  171.0   140    91   119  119   87\n",
            "13       Миколаївська  211.0  194.0  155.0   137    80   115  112   71\n",
            "14            Одеська  241.0  192.0  148.0   126    80   127  123   88\n",
            "15         Полтавська  186.0  163.0  131.0   118    70    99  100   65\n",
            "16         Рівненська  269.0  267.0  193.0   158   118   159  148  107\n",
            "17            Сумська  216.0  184.0  132.0   115    70    97   92   60\n",
            "18      Тернопільська  213.0  216.0  157.0   142    92   113  109   76\n",
            "19         Харківська  197.0  173.0  140.0   114    68    99  101   68\n",
            "20         Херсонська  208.0  214.0  166.0   143    85   117  115   81\n",
            "21        Хмельницька  234.0  198.0  148.0   129    85   113  112   79\n",
            "22          Черкаська  205.0  179.0  144.0   123    75   100   98   64\n",
            "23        Чернівецька  247.0  218.0  170.0   148   101   128  129   92\n",
            "24       Чернігівська  220.0  183.0  127.0   108    69    94   90   61\n",
            "25               Київ    0.0  174.0  159.0   120    73   120  121  110\n",
            "26        Севастополь    0.0    0.0    0.0   125    70   120    0    0\n",
            "27            Україна  228.0  205.0  152.0   126    78   114  111   81\n"
          ]
        }
      ]
    },
    {
      "cell_type": "markdown",
      "source": [
        "# 1.6 - Посчитайте, какая доля пропусков содержится в каждой колонке (используйте методы isnull и sum)"
      ],
      "metadata": {
        "id": "SMbzY0wKyELV"
      }
    },
    {
      "cell_type": "code",
      "source": [
        "tbl_result_nulls = tbl_result.isnull().sum()"
      ],
      "metadata": {
        "id": "SjyjhvZayG0W"
      },
      "execution_count": null,
      "outputs": []
    },
    {
      "cell_type": "code",
      "source": [
        "print(tbl_result_nulls)"
      ],
      "metadata": {
        "id": "9PJGn87g07Kl"
      },
      "execution_count": null,
      "outputs": []
    },
    {
      "cell_type": "markdown",
      "source": [
        "#1.7 - Удалите из таблицы данные по всей стране, последняя строчка таблицы"
      ],
      "metadata": {
        "id": "Gbsz5SFz1WNV"
      }
    },
    {
      "cell_type": "code",
      "source": [
        "new_tbl_result = tbl_result.copy()"
      ],
      "metadata": {
        "id": "-5t2wpHf4msq"
      },
      "execution_count": null,
      "outputs": []
    },
    {
      "cell_type": "code",
      "source": [
        "tbl_result_del = new_tbl_result.drop([27]) "
      ],
      "metadata": {
        "id": "tqp8lqlu4Llh"
      },
      "execution_count": null,
      "outputs": []
    },
    {
      "cell_type": "code",
      "source": [
        "# tbl_result_del = new_tbl_result.drop(['2019'], axis=1) видалення стовпця"
      ],
      "metadata": {
        "id": "nv60FMFJ5LZ6"
      },
      "execution_count": null,
      "outputs": []
    },
    {
      "cell_type": "code",
      "source": [
        "print(tbl_result_del)"
      ],
      "metadata": {
        "id": "E-XNIkIh6GmL"
      },
      "execution_count": null,
      "outputs": []
    },
    {
      "cell_type": "markdown",
      "source": [
        "# 1.8 - Замените отсутствующие данные в столбцах средними значениями по этим столбцам (метод fillna)"
      ],
      "metadata": {
        "id": "xYKfakV-6hsE"
      }
    },
    {
      "cell_type": "code",
      "source": [
        "tbl_result_ch_null = tbl_result.astype({\"1990\": float, \"2000\": float, \"2012\": float, \"2014\": float, \"2019\": float})"
      ],
      "metadata": {
        "id": "r83mfN18XnBn"
      },
      "execution_count": null,
      "outputs": []
    },
    {
      "cell_type": "code",
      "source": [
        "print(tbl_result_ch_null)"
      ],
      "metadata": {
        "id": "zWRHUTfePx5W"
      },
      "execution_count": null,
      "outputs": []
    },
    {
      "cell_type": "code",
      "source": [
        "result_mean = tbl_result_ch_null.fillna(tbl_result_ch_null.mean())"
      ],
      "metadata": {
        "id": "-73w1MQjZ0lD",
        "colab": {
          "base_uri": "https://localhost:8080/"
        },
        "outputId": "70c29bcd-24a2-49c2-a9a6-a2b2738990af"
      },
      "execution_count": null,
      "outputs": [
        {
          "output_type": "stream",
          "name": "stderr",
          "text": [
            "<ipython-input-27-74d778f24a3c>:1: FutureWarning: Dropping of nuisance columns in DataFrame reductions (with 'numeric_only=None') is deprecated; in a future version this will raise TypeError.  Select only valid columns before calling the reduction.\n",
            "  result_mean = tbl_result_ch_null.fillna(tbl_result_ch_null.mean())\n"
          ]
        }
      ]
    },
    {
      "cell_type": "code",
      "source": [
        "print(result_mean)"
      ],
      "metadata": {
        "colab": {
          "base_uri": "https://localhost:8080/"
        },
        "id": "HCztOBixaX5H",
        "outputId": "a606ca14-6320-44af-a2a1-584eda934609"
      },
      "execution_count": null,
      "outputs": [
        {
          "output_type": "stream",
          "name": "stdout",
          "text": [
            "               Регіон        1950        1960        1970   1990   2000  \\\n",
            "0                Крим  230.000000  206.000000  160.000000  130.0   73.0   \n",
            "1           Вінницька  224.000000  192.000000  142.000000  124.0   84.0   \n",
            "2           Волинська  247.000000  250.000000  179.000000  153.0  112.0   \n",
            "3    Дніпропетровська  204.000000  204.000000  151.000000  123.0   71.0   \n",
            "4            Донецька  271.000000  214.000000  140.000000  109.0   61.0   \n",
            "5         Житомирська  261.000000  223.000000  159.000000  129.0   89.0   \n",
            "6        Закарпатська  314.000000  273.000000  207.000000  168.0  115.0   \n",
            "7          Запорізька  219.000000  197.000000  150.000000  124.0   71.0   \n",
            "8   Івано-Франківська  243.000000  248.000000  182.000000  155.0  103.0   \n",
            "9            Київська  204.000000  189.000000  156.000000  123.0   73.0   \n",
            "10     Кіровоградська  216.000000  171.000000  145.000000  126.0   79.0   \n",
            "11          Луганська  262.000000  235.000000  144.000000  116.0   62.0   \n",
            "12          Львівська  234.000000  240.000000  171.000000  140.0   91.0   \n",
            "13       Миколаївська  211.000000  194.000000  155.000000  137.0   80.0   \n",
            "14            Одеська  241.000000  192.000000  148.000000  126.0   80.0   \n",
            "15         Полтавська  186.000000  163.000000  131.000000  118.0   70.0   \n",
            "16         Рівненська  269.000000  267.000000  193.000000  158.0  118.0   \n",
            "17            Сумська  216.000000  184.000000  132.000000  115.0   70.0   \n",
            "18      Тернопільська  213.000000  216.000000  157.000000  142.0   92.0   \n",
            "19         Харківська  197.000000  173.000000  140.000000  114.0   68.0   \n",
            "20         Херсонська  208.000000  214.000000  166.000000  143.0   85.0   \n",
            "21        Хмельницька  234.000000  198.000000  148.000000  129.0   85.0   \n",
            "22          Черкаська  205.000000  179.000000  144.000000  123.0   75.0   \n",
            "23        Чернівецька  247.000000  218.000000  170.000000  148.0  101.0   \n",
            "24       Чернігівська  220.000000  183.000000  127.000000  108.0   69.0   \n",
            "25               Київ  230.923077  174.000000  159.000000  120.0   73.0   \n",
            "26        Севастополь  230.923077  207.481481  155.851852  125.0   70.0   \n",
            "27            Україна  228.000000  205.000000  152.000000  126.0   78.0   \n",
            "\n",
            "     2012        2014        2019  \n",
            "0   126.0  111.423077   80.208333  \n",
            "1   112.0  109.000000   76.000000  \n",
            "2   148.0  141.000000  101.000000  \n",
            "3   112.0  111.000000   71.000000  \n",
            "4    98.0   82.000000   80.208333  \n",
            "5   122.0  120.000000   79.000000  \n",
            "6   151.0  146.000000  104.000000  \n",
            "7   106.0  106.000000   68.000000  \n",
            "8   124.0  122.000000   88.000000  \n",
            "9   122.0  121.000000   80.000000  \n",
            "10  110.0  108.000000   68.000000  \n",
            "11   96.0   51.000000   80.208333  \n",
            "12  119.0  119.000000   87.000000  \n",
            "13  115.0  112.000000   71.000000  \n",
            "14  127.0  123.000000   88.000000  \n",
            "15   99.0  100.000000   65.000000  \n",
            "16  159.0  148.000000  107.000000  \n",
            "17   97.0   92.000000   60.000000  \n",
            "18  113.0  109.000000   76.000000  \n",
            "19   99.0  101.000000   68.000000  \n",
            "20  117.0  115.000000   81.000000  \n",
            "21  113.0  112.000000   79.000000  \n",
            "22  100.0   98.000000   64.000000  \n",
            "23  128.0  129.000000   92.000000  \n",
            "24   94.0   90.000000   61.000000  \n",
            "25  120.0  121.000000  110.000000  \n",
            "26  120.0  111.423077   80.208333  \n",
            "27  114.0  111.000000   81.000000  \n"
          ]
        }
      ]
    },
    {
      "cell_type": "markdown",
      "source": [
        "# 1.9 - Получите список регионов, где уровень рождаемости в 2019 году был выше среднего по Украине"
      ],
      "metadata": {
        "id": "mwEQjc378MKK"
      }
    },
    {
      "cell_type": "markdown",
      "source": [
        "# ??????????????????????????"
      ],
      "metadata": {
        "id": "kf5eeQvEo_JP"
      }
    },
    {
      "cell_type": "code",
      "source": [
        "m = result_mean.mean().mean()"
      ],
      "metadata": {
        "colab": {
          "base_uri": "https://localhost:8080/"
        },
        "id": "M9asEf9rSWa4",
        "outputId": "1aa179f5-c9d1-4397-a935-e6f88f8e316e"
      },
      "execution_count": null,
      "outputs": [
        {
          "output_type": "stream",
          "name": "stderr",
          "text": [
            "<ipython-input-28-860f29e22572>:1: FutureWarning: Dropping of nuisance columns in DataFrame reductions (with 'numeric_only=None') is deprecated; in a future version this will raise TypeError.  Select only valid columns before calling the reduction.\n",
            "  m = result_mean.mean().mean()\n"
          ]
        }
      ]
    },
    {
      "cell_type": "code",
      "source": [
        "print(m)"
      ],
      "metadata": {
        "colab": {
          "base_uri": "https://localhost:8080/"
        },
        "id": "5h8U2eM8Sjzp",
        "outputId": "74540d93-d606-4a03-c3f5-ef5cfeb453f3"
      },
      "execution_count": null,
      "outputs": [
        {
          "output_type": "stream",
          "name": "stdout",
          "text": [
            "139.3565132783883\n"
          ]
        }
      ]
    },
    {
      "cell_type": "code",
      "source": [
        "region = result_mean[['2019']]"
      ],
      "metadata": {
        "id": "g_TI2lxJ8ZT0"
      },
      "execution_count": null,
      "outputs": []
    },
    {
      "cell_type": "code",
      "source": [
        "print(region > m)"
      ],
      "metadata": {
        "id": "0ezQYE0GJ1eQ",
        "colab": {
          "base_uri": "https://localhost:8080/"
        },
        "outputId": "11ce1417-49a8-42d9-bc81-3fa9f96460d7"
      },
      "execution_count": null,
      "outputs": [
        {
          "output_type": "stream",
          "name": "stdout",
          "text": [
            "     2019\n",
            "0   False\n",
            "1   False\n",
            "2   False\n",
            "3   False\n",
            "4   False\n",
            "5   False\n",
            "6   False\n",
            "7   False\n",
            "8   False\n",
            "9   False\n",
            "10  False\n",
            "11  False\n",
            "12  False\n",
            "13  False\n",
            "14  False\n",
            "15  False\n",
            "16  False\n",
            "17  False\n",
            "18  False\n",
            "19  False\n",
            "20  False\n",
            "21  False\n",
            "22  False\n",
            "23  False\n",
            "24  False\n",
            "25  False\n",
            "26  False\n",
            "27  False\n"
          ]
        }
      ]
    },
    {
      "cell_type": "markdown",
      "source": [
        "# 1.10 - В каком регионе была самая высокая рождаемость в 2014 году?"
      ],
      "metadata": {
        "id": "HGNK3F578e9B"
      }
    },
    {
      "cell_type": "code",
      "source": [
        "high_r = result_mean[['2014']].max()"
      ],
      "metadata": {
        "id": "KJ5W3p3U8mZo"
      },
      "execution_count": null,
      "outputs": []
    },
    {
      "cell_type": "code",
      "source": [
        "print(high_r)"
      ],
      "metadata": {
        "colab": {
          "base_uri": "https://localhost:8080/"
        },
        "id": "hUl5k4ZXZ-Bd",
        "outputId": "6a6bf22a-37e8-4686-aed0-98e17cb3c843"
      },
      "execution_count": null,
      "outputs": [
        {
          "output_type": "stream",
          "name": "stdout",
          "text": [
            "2014    148.0\n",
            "dtype: float64\n"
          ]
        }
      ]
    },
    {
      "cell_type": "code",
      "source": [
        "tr = high_r == result_mean[['2014']]"
      ],
      "metadata": {
        "id": "F4-CuLERl0bc"
      },
      "execution_count": null,
      "outputs": []
    },
    {
      "cell_type": "code",
      "source": [
        "print(tr)"
      ],
      "metadata": {
        "id": "Ft7YOnl3ZbQt"
      },
      "execution_count": null,
      "outputs": []
    },
    {
      "cell_type": "code",
      "source": [
        "ind = tr.index[tr['2014']].tolist()"
      ],
      "metadata": {
        "id": "rdoOQ7OCkevb"
      },
      "execution_count": null,
      "outputs": []
    },
    {
      "cell_type": "code",
      "source": [
        "print(ind)"
      ],
      "metadata": {
        "id": "LEhW9uMQoYsT"
      },
      "execution_count": null,
      "outputs": []
    },
    {
      "cell_type": "code",
      "source": [
        "high_b = result_mean[['Регіон', '2014']]"
      ],
      "metadata": {
        "id": "TQkkO2-wci1A"
      },
      "execution_count": null,
      "outputs": []
    },
    {
      "cell_type": "code",
      "source": [
        "print(high_b)"
      ],
      "metadata": {
        "id": "izXqdjg3c4aw"
      },
      "execution_count": null,
      "outputs": []
    },
    {
      "cell_type": "code",
      "source": [
        "print(high_b.loc[ind, 'Регіон'])"
      ],
      "metadata": {
        "colab": {
          "base_uri": "https://localhost:8080/"
        },
        "id": "KaykdNVjnsgE",
        "outputId": "13198d34-7bf4-4589-e44b-11500c48eca3"
      },
      "execution_count": null,
      "outputs": [
        {
          "output_type": "stream",
          "name": "stdout",
          "text": [
            "16    Рівненська\n",
            "Name: Регіон, dtype: object\n"
          ]
        }
      ]
    },
    {
      "cell_type": "markdown",
      "source": [
        "# 1.11 - Постройте столбцовую диаграмму рождаемости по регионам в 2019 году"
      ],
      "metadata": {
        "id": "x57X0AYp8mxz"
      }
    },
    {
      "cell_type": "code",
      "source": [
        "col_bith = result_mean[\"2019\"].plot.bar(rot=27)"
      ],
      "metadata": {
        "id": "SNyf5P0t8tvk",
        "colab": {
          "base_uri": "https://localhost:8080/",
          "height": 270
        },
        "outputId": "1cb5353f-925d-4e62-9dec-1c79904300bc"
      },
      "execution_count": null,
      "outputs": [
        {
          "output_type": "display_data",
          "data": {
            "text/plain": [
              "<Figure size 432x288 with 1 Axes>"
            ],
            "image/png": "[encoded data removed]"
          },
          "metadata": {
            "needs_background": "light"
          }
        }
      ]
    },
    {
      "cell_type": "code",
      "source": [
        "# col_bith.plot()"
      ],
      "metadata": {
        "id": "RarxA4XusXMk"
      },
      "execution_count": null,
      "outputs": []
    },
    {
      "cell_type": "code",
      "source": [
        "# plt.show()"
      ],
      "metadata": {
        "id": "v34se8OEsYZq"
      },
      "execution_count": null,
      "outputs": []
    }
  ]
}